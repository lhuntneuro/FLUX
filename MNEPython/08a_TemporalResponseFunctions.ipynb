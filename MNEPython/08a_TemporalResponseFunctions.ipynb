{
 "cells": [
  {
   "cell_type": "markdown",
   "metadata": {},
   "source": [
    "# Temporal response functions\n",
    "\n",
    "Temporal response functions (TRFs) are an alternative approach to understanding the relationship between stimulus events and M/EEG activity. The idea is to estimate a general linear model, with each row of the design matrix capturing a temporally-lagged version of the regressor of interest (Crosse 2016, Ehinger 2019). This can be used for discrete events (as in the current study), but can also be used for continuous, time-evolving regressors. \n",
    "\n",
    "A key advantage of this approach is that it allows for 'unmixing' of temporally-overlapping neural responses to an event (Smith 2015). On the other hand, if events are sufficiently temporally separated and discrete, then it is mathematically equivalent to event related averaging. The results from this approach should therefore be equivalent to those identifed in the EventRelatedFields notebook.\n",
    "\n",
    "## Preparation\n",
    "\n",
    "Import the relevant modules. We plan to use Julia+Unfold. Advice on how to install this is available at https://unfoldtoolbox.github.io/Unfold.jl/dev/generated/HowTo/juliacall_unfold/. We can also try mTRF, see https://mtrfpy.readthedocs.io/en/latest/index.html "
   ]
  },
  {
   "cell_type": "code",
   "execution_count": 1,
   "metadata": {},
   "outputs": [
    {
     "name": "stdout",
     "output_type": "stream",
     "text": [
      "Detected IPython. Loading juliacall extension. See https://juliapy.github.io/PythonCall.jl/stable/compat/#IPython\n"
     ]
    },
    {
     "name": "stderr",
     "output_type": "stream",
     "text": [
      "  Activating new project at `~/Dropbox/Private/python/FLUX/MNEPython`\n",
      "   Resolving package versions...\n",
      "    Updating `~/Dropbox/Private/python/FLUX/MNEPython/Project.toml`\n",
      "  [181c99d8] + Unfold v0.7.2\n",
      "    Updating `~/Dropbox/Private/python/FLUX/MNEPython/Manifest.toml`\n",
      "  [621f4979] + AbstractFFTs v1.5.0\n",
      "  [1520ce14] + AbstractTrees v0.4.5\n",
      "  [79e6a3ab] + Adapt v4.0.4\n",
      "  [66dad0bd] + AliasTables v1.1.3\n",
      "  [49dc2e85] + Calculus v0.5.1\n",
      "  [da1fd8a2] + CodeTracking v1.3.5\n",
      "  [861a8166] + Combinatorics v1.0.2\n",
      "  [bbf7d656] + CommonSubexpressions v0.3.0\n",
      "  [34da2185] + Compat v4.15.0\n",
      "  [187b0558] + ConstructionBase v1.5.5\n",
      "  [a8cc5b0e] + Crayons v4.1.1\n",
      "  [717857b8] + DSP v0.7.9\n",
      "  [9a962f9c] + DataAPI v1.16.0\n",
      "  [a93c6f00] + DataFrames v1.6.1\n",
      "  [864edb3b] + DataStructures v0.18.20\n",
      "  [e2d170a0] + DataValueInterfaces v1.0.0\n",
      "  [85a47980] + Dictionaries v0.4.2\n",
      "  [163ba53b] + DiffResults v1.1.0\n",
      "  [b552c78f] + DiffRules v1.15.1\n",
      "  [31c24e10] + Distributions v0.25.109\n",
      "  [ffbed154] + DocStringExtensions v0.9.3\n",
      "  [fa6b7ba4] + DualNumbers v0.6.8\n",
      "  [8f03c58b] + Effects v1.2.0\n",
      "  [e2ba6199] + ExprTools v0.1.10\n",
      "  [7a1cc6ca] + FFTW v1.8.0\n",
      "  [5789e2e9] + FileIO v1.16.3\n",
      "  [1a297f60] + FillArrays v1.11.0\n",
      "  [f6369f11] + ForwardDiff v0.10.36\n",
      "  [38e38edf] + GLM v1.9.0\n",
      "  [eafb193a] + Highlights v0.5.2\n",
      "  [34004b35] + HypergeometricFunctions v0.3.23\n",
      "  [313cdc1a] + Indexing v1.1.1\n",
      "  [842dd82b] + InlineStrings v1.4.0\n",
      "  [41ab1584] + InvertedIndices v1.3.0\n",
      "  [92d709cd] + IrrationalConstants v0.2.2\n",
      "  [c8e1da08] + IterTools v1.10.0\n",
      "  [42fd0dbc] + IterativeSolvers v0.9.4\n",
      "  [82899510] + IteratorInterfaceExtensions v1.0.0\n",
      "  [033835bb] + JLD2 v0.4.48\n",
      "  [692b3bcd] + JLLWrappers v1.5.0\n",
      "  [b964fa9f] + LaTeXStrings v1.3.1\n",
      "  [2ab3a3ac] + LogExpFunctions v0.3.28\n",
      "  [f0e99cf1] + MLBase v0.9.2\n",
      "  [1914dd2f] + MacroTools v0.5.13\n",
      "  [e1d29d7a] + Missings v1.2.0\n",
      "  [1c23619d] + MyterialColors v0.3.0\n",
      "  [77ba4419] + NaNMath v1.0.2\n",
      "  [bac558e1] + OrderedCollections v1.6.3\n",
      "  [90014a1f] + PDMats v0.11.31\n",
      "  [d96e819e] + Parameters v0.12.3\n",
      "  [69de0a69] + Parsers v2.8.1\n",
      "  [f27b6e38] + Polynomials v4.0.9\n",
      "  [2dfb63ee] + PooledArrays v1.4.3\n",
      "  [aea7be01] + PrecompileTools v1.2.1\n",
      "  [21216c6a] + Preferences v1.4.3\n",
      "  [08abe8d2] + PrettyTables v2.3.2\n",
      "  [33c8b6b6] + ProgressLogging v0.1.4\n",
      "  [92933f4c] + ProgressMeter v1.10.0\n",
      "  [43287f4e] + PtrArrays v1.2.0\n",
      "  [1fd47b50] + QuadGK v2.9.4\n",
      "  [3cdcf5f2] + RecipesBase v1.3.4\n",
      "  [189a3867] + Reexport v1.2.2\n",
      "  [ae029012] + Requires v1.3.0\n",
      "  [79098fc4] + Rmath v0.7.1\n",
      "  [91c51154] + SentinelArrays v1.4.3\n",
      "  [efcf1570] + Setfield v1.1.1\n",
      "  [1277b4bf] + ShiftedArrays v2.0.0\n",
      "  [699a6c99] + SimpleTraits v0.9.4\n",
      "  [a2af1166] + SortingAlgorithms v1.2.1\n",
      "  [276daf66] + SpecialFunctions v2.4.0\n",
      "  [03a91e81] + SplitApplyCombine v1.2.3\n",
      "  [90137ffa] + StaticArrays v1.9.4\n",
      "  [1e83bf80] + StaticArraysCore v1.4.2\n",
      "  [82ae8749] + StatsAPI v1.7.0\n",
      "  [2913bbd2] + StatsBase v0.34.3\n",
      "  [4c63d2b9] + StatsFuns v1.3.1\n",
      "  [3eaba693] + StatsModels v0.7.3\n",
      "  [892a3eda] + StringManipulation v0.3.4\n",
      "  [3783bdb8] + TableTraits v1.0.1\n",
      "  [bd369af6] + Tables v1.11.1\n",
      "  [22787eb5] + Term v2.0.6\n",
      "  [a759f4b9] + TimerOutputs v0.5.24\n",
      "  [3bb67fe8] + TranscodingStreams v0.10.9\n",
      "  [9d95f2ec] + TypedTables v1.4.6\n",
      "  [3a884ed6] + UnPack v1.0.2\n",
      "  [181c99d8] + Unfold v0.7.2\n",
      "  [1cfade01] + UnicodeFun v0.4.1\n",
      "  [f5851436] + FFTW_jll v3.3.10+0\n",
      "  [1d5cc7b8] + IntelOpenMP_jll v2024.1.0+0\n",
      "  [856f044c] + MKL_jll v2024.1.0+0\n",
      "  [efe28fd5] + OpenSpecFun_jll v0.5.5+0\n",
      "  [f50d1b31] + Rmath_jll v0.4.2+0\n",
      "  [1317d2d5] + oneTBB_jll v2021.12.0+0\n",
      "  [0dad84c5] + ArgTools v1.1.1\n",
      "  [56f22d72] + Artifacts\n",
      "  [2a0f44e3] + Base64\n",
      "  [ade2ca70] + Dates\n",
      "  [8ba89e20] + Distributed\n",
      "  [f43a241f] + Downloads v1.6.0\n",
      "  [7b1f6079] + FileWatching\n",
      "  [9fa8497b] + Future\n",
      "  [b77e0a4c] + InteractiveUtils\n",
      "  [4af54fe1] + LazyArtifacts\n",
      "  [b27032c2] + LibCURL v0.6.4\n",
      "  [76f85450] + LibGit2\n",
      "  [8f399da3] + Libdl\n",
      "  [37e2e46d] + LinearAlgebra\n",
      "  [56ddb016] + Logging\n",
      "  [d6f4376e] + Markdown\n",
      "  [a63ad114] + Mmap\n",
      "  [ca575930] + NetworkOptions v1.2.0\n",
      "  [44cfe95a] + Pkg v1.10.0\n",
      "  [de0858da] + Printf\n",
      "  [3fa0cd96] + REPL\n",
      "  [9a3f8284] + Random\n",
      "  [ea8e919c] + SHA v0.7.0\n",
      "  [9e88b42a] + Serialization\n",
      "  [6462fe0b] + Sockets\n",
      "  [2f01184e] + SparseArrays v1.10.0\n",
      "  [10745b16] + Statistics v1.10.0\n",
      "  [4607b0f0] + SuiteSparse\n",
      "  [fa267f1f] + TOML v1.0.3\n",
      "  [a4e569a6] + Tar v1.10.0\n",
      "  [8dfed614] + Test\n",
      "  [cf7118a7] + UUIDs\n",
      "  [4ec0a83e] + Unicode\n",
      "  [e66e0078] + CompilerSupportLibraries_jll v1.1.1+0\n",
      "  [deac9b47] + LibCURL_jll v8.4.0+0\n",
      "  [e37daf67] + LibGit2_jll v1.6.4+0\n",
      "  [29816b5a] + LibSSH2_jll v1.11.0+1\n",
      "  [c8ffd9c3] + MbedTLS_jll v2.28.2+1\n",
      "  [14a3606d] + MozillaCACerts_jll v2023.1.10\n",
      "  [4536629a] + OpenBLAS_jll v0.3.23+4\n",
      "  [05823500] + OpenLibm_jll v0.8.1+2\n",
      "  [bea87d4a] + SuiteSparse_jll v7.2.1+1\n",
      "  [83775a58] + Zlib_jll v1.2.13+1\n",
      "  [8e850b90] + libblastrampoline_jll v5.8.0+1\n",
      "  [8e850ede] + nghttp2_jll v1.52.0+1\n",
      "  [3f19e933] + p7zip_jll v17.4.0+2\n"
     ]
    }
   ],
   "source": [
    "import os.path as op\n",
    "import os\n",
    "\n",
    "import pandas as pd\n",
    "import numpy as np\n",
    "\n",
    "#from mne_bids import BIDSPath, read_raw_bids # If you don't have mne_bids installed, comment this line.\n",
    "# Import the Julia package manager\n",
    "from juliacall import Pkg as jlPkg\n",
    "# Activate the environment in the current folder\n",
    "jlPkg.activate(\".\")\n",
    "# Install Unfold (in the activated environment)\n",
    "jlPkg.add(\"Unfold\")\n",
    "\n",
    "\n"
   ]
  },
  {
   "cell_type": "markdown",
   "metadata": {},
   "source": [
    "Note that currently, importing mtrf, MNE and mne_bids seems to hang when Julia has been activated :-("
   ]
  },
  {
   "cell_type": "code",
   "execution_count": 2,
   "metadata": {},
   "outputs": [],
   "source": [
    "# import mne\n",
    "\n",
    "# from mne_bids import BIDSPath, read_raw_bids # If you don't have mne_bids installed, comment this line.\n",
    "\n",
    "# import mtrf as mtf"
   ]
  },
  {
   "cell_type": "code",
   "execution_count": null,
   "metadata": {},
   "outputs": [],
   "source": [
    "mtf.model.load_sample_data() # Load sample data "
   ]
  },
  {
   "cell_type": "markdown",
   "metadata": {},
   "source": [
    "### Loading the data - if you have mne_bids installed"
   ]
  },
  {
   "cell_type": "code",
   "execution_count": null,
   "metadata": {},
   "outputs": [],
   "source": [
    "subject = '01'\n",
    "session = '01'\n",
    "task = 'SpAtt'\n",
    "run = '01'\n",
    "meg_suffix = 'meg'\n",
    "ica_suffix = 'ica'\n",
    "ann_suffix = 'ann'\n",
    "epo_suffix = 'epo'\n",
    "\n",
    "\n",
    "preproc_root = r'/Users/lhunt/scratch/projects/FLUX_pipeline/derivatives/Preprocessing'\n",
    "analysis_root = r'/Users/lhunt/scratch/projects/FLUX_pipeline/derivatives/Analysis'\n",
    "\n",
    "bids_path_preproc = BIDSPath(subject=subject, session=session,\n",
    "            task=task, run=run, suffix=ica_suffix, datatype='meg',\n",
    "            root=preproc_root, extension='.fif', check=False)\n",
    "\n",
    "ann_fname = bids_path_preproc.basename.replace(ica_suffix, ann_suffix) # output filename\n",
    "ann_fname = ann_fname.replace('fif', 'csv') # output filename\n",
    "\n",
    "ann_fname_1 = op.join(bids_path_preproc.directory, ann_fname)\n",
    "ann_fname_2 = ann_fname_1.replace('run-01', 'run-02')"
   ]
  },
  {
   "cell_type": "markdown",
   "metadata": {},
   "source": [
    "Read the pre-processed data, after ICA. Note that we are *not* loading in the epoched data here, as we want to work with the continuous data instead."
   ]
  },
  {
   "cell_type": "code",
   "execution_count": null,
   "metadata": {},
   "outputs": [],
   "source": [
    "# This section only runs on run=01 for illustration purpose \n",
    "bids_path_preproc.update(run='01')\n",
    "raw = read_raw_bids(bids_path=bids_path_preproc, \n",
    "            extra_params={'preload':False},\n",
    "            verbose=True)\n"
   ]
  },
  {
   "cell_type": "markdown",
   "metadata": {},
   "source": [
    "Now, read the events from the stimulus channel (STI101), and also read the artefacts that were detected in the ArtefactAnnotation script from the CSV file."
   ]
  },
  {
   "cell_type": "code",
   "execution_count": null,
   "metadata": {},
   "outputs": [],
   "source": [
    "# Reading the events from the  raw file\n",
    "events, events_id = mne.events_from_annotations(raw, event_id='auto')\n",
    "\n",
    "# Reading the artifact rejection annotations\n",
    "ann1 = mne.read_annotations(ann_fname_1)\n",
    "print(ann1)\n",
    "raw.set_annotations(ann1)"
   ]
  },
  {
   "cell_type": "code",
   "execution_count": null,
   "metadata": {},
   "outputs": [],
   "source": [
    "%matplotlib inline\n",
    "plt.stem(events[:,0][:80], events[:,2][:80])\n",
    "plt.xlabel('samples')\n",
    "plt.ylabel('Trigger value (STI101)')\n",
    "plt.show()"
   ]
  },
  {
   "cell_type": "markdown",
   "metadata": {},
   "source": [
    "# References\n",
    "\n",
    "Crosse MJ, Di Liberto GM, Bednar A and Lalor EC (2016) The Multivariate Temporal Response Function (mTRF) Toolbox: A MATLAB Toolbox for Relating Neural Signals to Continuous Stimuli. Front. Hum. Neurosci. 10:604. doi: 10.3389/fnhum.2016.00604\n",
    "\n",
    "Ehinger BV, Dimigen O. 2019. Unfold: an integrated toolbox for overlap correction, non-linear modeling, and regression-based EEG analysis. PeerJ 7:e7838 https://doi.org/10.7717/peerj.7838\n",
    "\n",
    "Smith NJ, Kutas M. Regression-based estimation of ERP waveforms: I. The rERP framework. Psychophysiology. 2015 Feb;52(2):157-68. doi: 10.1111/psyp.12317. Epub 2014 Aug 21. PMID: 25141770; PMCID: PMC5308234.\n"
   ]
  },
  {
   "cell_type": "markdown",
   "metadata": {},
   "source": []
  }
 ],
 "metadata": {
  "kernelspec": {
   "display_name": "base",
   "language": "python",
   "name": "python3"
  },
  "language_info": {
   "codemirror_mode": {
    "name": "ipython",
    "version": 3
   },
   "file_extension": ".py",
   "mimetype": "text/x-python",
   "name": "python",
   "nbconvert_exporter": "python",
   "pygments_lexer": "ipython3",
   "version": "3.9.12"
  }
 },
 "nbformat": 4,
 "nbformat_minor": 2
}
