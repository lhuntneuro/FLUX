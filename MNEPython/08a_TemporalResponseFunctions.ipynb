{
 "cells": [
  {
   "cell_type": "markdown",
   "metadata": {},
   "source": [
    "# Temporal response functions\n",
    "\n",
    "Temporal response functions (TRFs) are an alternative approach to understanding the relationship between stimulus events and M/EEG activity. The idea is to estimate a general linear model, with each row of the design matrix capturing a temporally-lagged version of the regressor of interest (Crosse 2016, Ehinger 2019). This can be used for discrete events (as in the current study), but can also be used for continuous, time-evolving regressors. \n",
    "\n",
    "A key advantage of this approach is that it allows for 'unmixing' of temporally-overlapping neural responses to an event (Smith 2015). On the other hand, if events are sufficiently temporally separated and discrete, then it is mathematically equivalent to event related averaging. The results from this approach should therefore be equivalent to those identifed in the EventRelatedFields notebook.\n",
    "\n",
    "## Preparation\n",
    "\n",
    "Import the relevant modules. We plan to use Julia+Unfold. Advice on how to install this is available at https://unfoldtoolbox.github.io/Unfold.jl/dev/generated/HowTo/juliacall_unfold/. We can also try mTRF, see https://mtrfpy.readthedocs.io/en/latest/index.html "
   ]
  },
  {
   "cell_type": "code",
   "execution_count": 1,
   "metadata": {},
   "outputs": [
    {
     "name": "stdout",
     "output_type": "stream",
     "text": [
      "Detected IPython. Loading juliacall extension. See https://juliapy.github.io/PythonCall.jl/stable/compat/#IPython\n"
     ]
    }
   ],
   "source": [
    "import os.path as op\n",
    "import os\n",
    "\n",
    "import pandas as pd\n",
    "import numpy as np\n",
    "\n",
    "#from mne_bids import BIDSPath, read_raw_bids # If you don't have mne_bids installed, comment this line.\n",
    "# Import the Julia package manager\n",
    "from juliacall import Pkg as jlPkg\n",
    "# Activate the environment in the current folder\n",
    "jlPkg.activate(\".\")\n",
    "# Install Unfold (in the activated environment)\n",
    "jlPkg.add(\"Unfold\")"
   ]
  },
  {
   "cell_type": "markdown",
   "metadata": {},
   "source": [
    "Note that currently, importing mtrf, MNE and mne_bids seems to hang when Julia has been activated :-("
   ]
  },
  {
   "cell_type": "code",
   "execution_count": 2,
   "metadata": {},
   "outputs": [],
   "source": [
    "# import mne\n",
    "\n",
    "# from mne_bids import BIDSPath, read_raw_bids # If you don't have mne_bids installed, comment this line.\n",
    "\n",
    "# import mtrf as mtf"
   ]
  },
  {
   "cell_type": "code",
   "execution_count": null,
   "metadata": {},
   "outputs": [],
   "source": [
    "mtf.model.load_sample_data() # Load sample data "
   ]
  },
  {
   "cell_type": "markdown",
   "metadata": {},
   "source": [
    "### Loading the data - if you have mne_bids installed"
   ]
  },
  {
   "cell_type": "code",
   "execution_count": null,
   "metadata": {},
   "outputs": [],
   "source": [
    "subject = '01'\n",
    "session = '01'\n",
    "task = 'SpAtt'\n",
    "run = '01'\n",
    "meg_suffix = 'meg'\n",
    "ica_suffix = 'ica'\n",
    "ann_suffix = 'ann'\n",
    "epo_suffix = 'epo'\n",
    "\n",
    "\n",
    "preproc_root = r'/Users/lhunt/scratch/projects/FLUX_pipeline/derivatives/Preprocessing'\n",
    "analysis_root = r'/Users/lhunt/scratch/projects/FLUX_pipeline/derivatives/Analysis'\n",
    "\n",
    "bids_path_preproc = BIDSPath(subject=subject, session=session,\n",
    "            task=task, run=run, suffix=ica_suffix, datatype='meg',\n",
    "            root=preproc_root, extension='.fif', check=False)\n",
    "\n",
    "ann_fname = bids_path_preproc.basename.replace(ica_suffix, ann_suffix) # output filename\n",
    "ann_fname = ann_fname.replace('fif', 'csv') # output filename\n",
    "\n",
    "ann_fname_1 = op.join(bids_path_preproc.directory, ann_fname)\n",
    "ann_fname_2 = ann_fname_1.replace('run-01', 'run-02')"
   ]
  },
  {
   "cell_type": "markdown",
   "metadata": {},
   "source": [
    "Read the pre-processed data, after ICA. Note that we are *not* loading in the epoched data here, as we want to work with the continuous data instead."
   ]
  },
  {
   "cell_type": "code",
   "execution_count": null,
   "metadata": {},
   "outputs": [],
   "source": [
    "# This section only runs on run=01 for illustration purpose \n",
    "bids_path_preproc.update(run='01')\n",
    "raw = read_raw_bids(bids_path=bids_path_preproc, \n",
    "            extra_params={'preload':False},\n",
    "            verbose=True)\n"
   ]
  },
  {
   "cell_type": "markdown",
   "metadata": {},
   "source": [
    "Now, read the events from the stimulus channel (STI101), and also read the artefacts that were detected in the ArtefactAnnotation script from the CSV file."
   ]
  },
  {
   "cell_type": "code",
   "execution_count": null,
   "metadata": {},
   "outputs": [],
   "source": [
    "# Reading the events from the  raw file\n",
    "events, events_id = mne.events_from_annotations(raw, event_id='auto')\n",
    "\n",
    "# Reading the artifact rejection annotations\n",
    "ann1 = mne.read_annotations(ann_fname_1)\n",
    "print(ann1)\n",
    "raw.set_annotations(ann1)"
   ]
  },
  {
   "cell_type": "code",
   "execution_count": null,
   "metadata": {},
   "outputs": [],
   "source": [
    "%matplotlib inline\n",
    "plt.stem(events[:,0][:80], events[:,2][:80])\n",
    "plt.xlabel('samples')\n",
    "plt.ylabel('Trigger value (STI101)')\n",
    "plt.show()"
   ]
  },
  {
   "cell_type": "markdown",
   "metadata": {},
   "source": [
    "# References\n",
    "\n",
    "Crosse MJ, Di Liberto GM, Bednar A and Lalor EC (2016) The Multivariate Temporal Response Function (mTRF) Toolbox: A MATLAB Toolbox for Relating Neural Signals to Continuous Stimuli. Front. Hum. Neurosci. 10:604. doi: 10.3389/fnhum.2016.00604\n",
    "\n",
    "Ehinger BV, Dimigen O. 2019. Unfold: an integrated toolbox for overlap correction, non-linear modeling, and regression-based EEG analysis. PeerJ 7:e7838 https://doi.org/10.7717/peerj.7838\n",
    "\n",
    "Smith NJ, Kutas M. Regression-based estimation of ERP waveforms: I. The rERP framework. Psychophysiology. 2015 Feb;52(2):157-68. doi: 10.1111/psyp.12317. Epub 2014 Aug 21. PMID: 25141770; PMCID: PMC5308234.\n"
   ]
  },
  {
   "cell_type": "markdown",
   "metadata": {},
   "source": []
  }
 ],
 "metadata": {
  "kernelspec": {
   "display_name": "base",
   "language": "python",
   "name": "python3"
  },
  "language_info": {
   "codemirror_mode": {
    "name": "ipython",
    "version": 3
   },
   "file_extension": ".py",
   "mimetype": "text/x-python",
   "name": "python",
   "nbconvert_exporter": "python",
   "pygments_lexer": "ipython3",
   "version": "3.9.12"
  }
 },
 "nbformat": 4,
 "nbformat_minor": 2
}
