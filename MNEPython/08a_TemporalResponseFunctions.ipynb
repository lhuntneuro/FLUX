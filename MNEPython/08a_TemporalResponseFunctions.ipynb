{
 "cells": [
  {
   "cell_type": "markdown",
   "metadata": {},
   "source": [
    "# Temporal response functions\n",
    "\n",
    "Temporal response functions (TRFs) are an alternative approach to understanding the relationship between stimulus events and M/EEG activity. The idea is to estimate a general linear model, with each row of the design matrix capturing a temporally-lagged version of the regressor of interest (Crosse 2016, Ehinger 2019). This can be used for discrete events (as in the current study), but can also be used for continuous, time-evolving regressors. \n",
    "\n",
    "A key advantage of this approach is that it allows for 'unmixing' of temporally-overlapping neural responses to an event (Smith 2015). On the other hand, if events are sufficiently temporally separated and discrete, then it is mathematically equivalent to event related averaging. The results from this approach should therefore be equivalent to those identifed in the EventRelatedFields notebook.\n",
    "\n",
    "## Preparation\n",
    "\n",
    "Import the relevant modules. We plan to use Julia+Unfold. Advice on how to install this is available at https://unfoldtoolbox.github.io/Unfold.jl/dev/generated/HowTo/juliacall_unfold/"
   ]
  },
  {
   "cell_type": "code",
   "execution_count": 15,
   "metadata": {},
   "outputs": [
    {
     "name": "stdout",
     "output_type": "stream",
     "text": [
      "[juliapkg] Found dependencies: /Users/lhunt/opt/anaconda3/lib/python3.9/site-packages/juliapkg/juliapkg.json\n",
      "[juliapkg] Found dependencies: /Users/lhunt/opt/anaconda3/lib/python3.9/site-packages/juliacall/juliapkg.json\n",
      "[juliapkg] Locating Julia ~1.6.1, ~1.7, ~1.8, ~1.9, =1.10.0, ^1.10.3\n",
      "[juliapkg] Querying Julia versions from https://julialang-s3.julialang.org/bin/versions.json\n",
      "[juliapkg] WARNING: About to install Julia 1.10.3 to /Users/lhunt/opt/anaconda3/julia_env/pyjuliapkg/install.\n",
      "[juliapkg]   If you use juliapkg in more than one environment, you are likely to\n",
      "[juliapkg]   have Julia installed in multiple locations. It is recommended to\n",
      "[juliapkg]   install JuliaUp (https://github.com/JuliaLang/juliaup) or Julia\n",
      "[juliapkg]   (https://julialang.org/downloads) yourself.\n",
      "[juliapkg] Downloading Julia from https://julialang-s3.julialang.org/bin/mac/x64/1.10/julia-1.10.3-mac64.dmg\n",
      "             downloaded 34.8 MB of 143.4 MB\n",
      "             downloaded 76.9 MB of 143.4 MB\n",
      "             download complete\n",
      "[juliapkg] Verifying download\n",
      "[juliapkg] Installing Julia 1.10.3 to /Users/lhunt/opt/anaconda3/julia_env/pyjuliapkg/install\n",
      "[juliapkg] Using Julia 1.10.3 at /Users/lhunt/opt/anaconda3/julia_env/pyjuliapkg/install/bin/julia\n",
      "[juliapkg] Using Julia project at /Users/lhunt/opt/anaconda3/julia_env\n",
      "[juliapkg] Installing packages:\n",
      "           julia> import Pkg\n",
      "           julia> Pkg.Registry.update()\n",
      "           julia> Pkg.add([Pkg.PackageSpec(name=\"PythonCall\", uuid=\"6099a3de-0909-46bc-b1f4-468b9a2dfc0d\")])\n",
      "           julia> Pkg.resolve()\n",
      "           julia> Pkg.precompile()\n"
     ]
    },
    {
     "name": "stderr",
     "output_type": "stream",
     "text": [
      "  Installing known registries into `~/.julia`\n",
      "    Updating registry at `~/.julia/registries/General.toml`\n",
      "   Resolving package versions...\n",
      "   Installed Preferences ───────────────── v1.4.3\n",
      "   Installed Parsers ───────────────────── v2.8.1\n",
      "   Installed Scratch ───────────────────── v1.2.1\n",
      "   Installed TableTraits ───────────────── v1.0.1\n",
      "   Installed JSON3 ─────────────────────── v1.14.0\n",
      "   Installed Tables ────────────────────── v1.11.1\n",
      "   Installed DataAPI ───────────────────── v1.16.0\n",
      "   Installed MicroMamba ────────────────── v0.1.14\n",
      "   Installed Pidfile ───────────────────── v1.3.0\n",
      "   Installed IteratorInterfaceExtensions ─ v1.0.0\n",
      "   Installed JLLWrappers ───────────────── v1.5.0\n",
      "   Installed PrecompileTools ───────────── v1.2.1\n",
      "   Installed PythonCall ────────────────── v0.9.20\n",
      "   Installed DataValueInterfaces ───────── v1.0.0\n",
      "   Installed micromamba_jll ────────────── v1.5.8+0\n",
      "   Installed OrderedCollections ────────── v1.6.3\n",
      "   Installed Requires ──────────────────── v1.3.0\n",
      "   Installed UnsafePointers ────────────── v1.0.0\n",
      "   Installed StructTypes ───────────────── v1.10.0\n",
      "   Installed MacroTools ────────────────── v0.5.13\n",
      "   Installed CondaPkg ──────────────────── v0.2.22\n",
      "    Updating `~/opt/anaconda3/julia_env/Project.toml`\n",
      "  [6099a3de] + PythonCall v0.9.20\n",
      "    Updating `~/opt/anaconda3/julia_env/Manifest.toml`\n",
      "  [992eb4ea] + CondaPkg v0.2.22\n",
      "  [9a962f9c] + DataAPI v1.16.0\n",
      "  [e2d170a0] + DataValueInterfaces v1.0.0\n",
      "  [82899510] + IteratorInterfaceExtensions v1.0.0\n",
      "  [692b3bcd] + JLLWrappers v1.5.0\n",
      "  [0f8b85d8] + JSON3 v1.14.0\n",
      "  [1914dd2f] + MacroTools v0.5.13\n",
      "  [0b3b1443] + MicroMamba v0.1.14\n",
      "  [bac558e1] + OrderedCollections v1.6.3\n",
      "  [69de0a69] + Parsers v2.8.1\n",
      "  [fa939f87] + Pidfile v1.3.0\n",
      "  [aea7be01] + PrecompileTools v1.2.1\n",
      "  [21216c6a] + Preferences v1.4.3\n",
      "  [6099a3de] + PythonCall v0.9.20\n",
      "  [ae029012] + Requires v1.3.0\n",
      "  [6c6a2e73] + Scratch v1.2.1\n",
      "  [856f2bd8] + StructTypes v1.10.0\n",
      "  [3783bdb8] + TableTraits v1.0.1\n",
      "  [bd369af6] + Tables v1.11.1\n",
      "  [e17b2a0c] + UnsafePointers v1.0.0\n",
      "  [f8abcde7] + micromamba_jll v1.5.8+0\n",
      "  [0dad84c5] + ArgTools v1.1.1\n",
      "  [56f22d72] + Artifacts\n",
      "  [2a0f44e3] + Base64\n",
      "  [ade2ca70] + Dates\n",
      "  [f43a241f] + Downloads v1.6.0\n",
      "  [7b1f6079] + FileWatching\n",
      "  [b77e0a4c] + InteractiveUtils\n",
      "  [4af54fe1] + LazyArtifacts\n",
      "  [b27032c2] + LibCURL v0.6.4\n",
      "  [76f85450] + LibGit2\n",
      "  [8f399da3] + Libdl\n",
      "  [37e2e46d] + LinearAlgebra\n",
      "  [56ddb016] + Logging\n",
      "  [d6f4376e] + Markdown\n",
      "  [a63ad114] + Mmap\n",
      "  [ca575930] + NetworkOptions v1.2.0\n",
      "  [44cfe95a] + Pkg v1.10.0\n",
      "  [de0858da] + Printf\n",
      "  [3fa0cd96] + REPL\n",
      "  [9a3f8284] + Random\n",
      "  [ea8e919c] + SHA v0.7.0\n",
      "  [9e88b42a] + Serialization\n",
      "  [6462fe0b] + Sockets\n",
      "  [fa267f1f] + TOML v1.0.3\n",
      "  [a4e569a6] + Tar v1.10.0\n",
      "  [8dfed614] + Test\n",
      "  [cf7118a7] + UUIDs\n",
      "  [4ec0a83e] + Unicode\n",
      "  [e66e0078] + CompilerSupportLibraries_jll v1.1.1+0\n",
      "  [deac9b47] + LibCURL_jll v8.4.0+0\n",
      "  [e37daf67] + LibGit2_jll v1.6.4+0\n",
      "  [29816b5a] + LibSSH2_jll v1.11.0+1\n",
      "  [c8ffd9c3] + MbedTLS_jll v2.28.2+1\n",
      "  [14a3606d] + MozillaCACerts_jll v2023.1.10\n",
      "  [4536629a] + OpenBLAS_jll v0.3.23+4\n",
      "  [83775a58] + Zlib_jll v1.2.13+1\n",
      "  [8e850b90] + libblastrampoline_jll v5.8.0+1\n",
      "  [8e850ede] + nghttp2_jll v1.52.0+1\n",
      "  [3f19e933] + p7zip_jll v17.4.0+2\n",
      "Precompiling project...\n",
      "  ✓ UnsafePointers\n",
      "  ✓ OrderedCollections\n",
      "  ✓ CompilerSupportLibraries_jll\n",
      "  ✓ IteratorInterfaceExtensions\n",
      "  ✓ StructTypes\n",
      "  ✓ DataAPI\n",
      "  ✓ Requires\n",
      "  ✓ DataValueInterfaces\n",
      "  ✓ Scratch\n",
      "  ✓ Pidfile\n",
      "  ✓ TableTraits\n",
      "  ✓ Preferences\n",
      "  ✓ MacroTools\n",
      "  ✓ PrecompileTools\n",
      "  ✓ JLLWrappers\n",
      "  ✓ Tables\n",
      "micromamba_jll Waiting for background task / IO / timer.\n",
      "[pid 32488] waiting for IO to finish:\n",
      " Handle type        uv_handle_t->data\n",
      " timer              0x7fc9887245a0->0x11a71f1f0\n",
      "This means that a package has started a background task or event source that has not finished running. For precompilation to complete successfully, the event source needs to be closed explicitly. See the developer documentation on fixing precompilation hangs for more help.\n",
      "  ✓ Parsers\n",
      "\n",
      "[pid 32488] waiting for IO to finish:\n",
      " Handle type        uv_handle_t->data\n",
      " timer              0x7fc9887245a0->0x11a71f1f0\n",
      "This means that a package has started a background task or event source that has not finished running. For precompilation to complete successfully, the event source needs to be closed explicitly. See the developer documentation on fixing precompilation hangs for more help.\n",
      "  ✓ JSON3\n",
      "  ✓ micromamba_jll\n",
      "  ✓ MicroMamba\n",
      "  ✓ CondaPkg\n",
      "  ✓ PythonCall\n",
      "  22 dependencies successfully precompiled in 46 seconds. 3 already precompiled.\n",
      "  1 dependency had output during precompilation:\n",
      "┌ micromamba_jll\n",
      "│  Downloading artifact: micromamba\n",
      "│  \n",
      "│  [pid 32488] waiting for IO to finish:\n",
      "│   Handle type        uv_handle_t->data\n",
      "│   timer              0x7fc9887245a0->0x11a71f1f0\n",
      "│  This means that a package has started a background task or event source that has not finished running. For precompilation to complete successfully, the event source needs to be closed explicitly. See the developer documentation on fixing precompilation hangs for more help.\n",
      "│  \n",
      "│  [pid 32488] waiting for IO to finish:\n",
      "│   Handle type        uv_handle_t->data\n",
      "│   timer              0x7fc9887245a0->0x11a71f1f0\n",
      "│  This means that a package has started a background task or event source that has not finished running. For precompilation to complete successfully, the event source needs to be closed explicitly. See the developer documentation on fixing precompilation hangs for more help.\n",
      "└  \n",
      "  No Changes to `~/opt/anaconda3/julia_env/Project.toml`\n",
      "  No Changes to `~/opt/anaconda3/julia_env/Manifest.toml`\n"
     ]
    }
   ],
   "source": [
    "import os.path as op\n",
    "import os\n",
    "\n",
    "import pandas as pd\n",
    "import numpy as np\n",
    "import matplotlib.pyplot as plt\n",
    "\n",
    "import mne\n",
    "\n",
    "from mne_bids import BIDSPath, read_raw_bids # If you don't have mne_bids installed, comment this line.\n",
    "\n",
    "# Import the Julia package manager\n",
    "from juliacall import Pkg as jlPkg\n",
    "# Activate the environment in the current folder\n",
    "jlPkg.activate(\".\")\n",
    "# Install Unfold (in the activated environment)\n",
    "jlPkg.add(\"Unfold\")"
   ]
  },
  {
   "cell_type": "code",
   "execution_count": 14,
   "metadata": {},
   "outputs": [
    {
     "ename": "AttributeError",
     "evalue": "module 'mtrf' has no attribute 'from_mne'",
     "output_type": "error",
     "traceback": [
      "\u001b[0;31m---------------------------------------------------------------------------\u001b[0m",
      "\u001b[0;31mAttributeError\u001b[0m                            Traceback (most recent call last)",
      "Cell \u001b[0;32mIn[14], line 1\u001b[0m\n\u001b[0;32m----> 1\u001b[0m \u001b[43mmtrf\u001b[49m\u001b[38;5;241;43m.\u001b[39;49m\u001b[43mfrom_mne\u001b[49m\u001b[38;5;241m.\u001b[39m\u001b[38;5;18m__doc__\u001b[39m\n",
      "\u001b[0;31mAttributeError\u001b[0m: module 'mtrf' has no attribute 'from_mne'"
     ]
    }
   ],
   "source": [
    "mtf.model.load_sample_data() # Load sample data "
   ]
  },
  {
   "cell_type": "markdown",
   "metadata": {},
   "source": [
    "### Loading the data - if you have mne_bids installed"
   ]
  },
  {
   "cell_type": "code",
   "execution_count": 9,
   "metadata": {},
   "outputs": [],
   "source": [
    "subject = '01'\n",
    "session = '01'\n",
    "task = 'SpAtt'\n",
    "run = '01'\n",
    "meg_suffix = 'meg'\n",
    "ica_suffix = 'ica'\n",
    "ann_suffix = 'ann'\n",
    "epo_suffix = 'epo'\n",
    "\n",
    "\n",
    "preproc_root = r'/Users/lhunt/scratch/projects/FLUX_pipeline/derivatives/Preprocessing'\n",
    "analysis_root = r'/Users/lhunt/scratch/projects/FLUX_pipeline/derivatives/Analysis'\n",
    "\n",
    "bids_path_preproc = BIDSPath(subject=subject, session=session,\n",
    "            task=task, run=run, suffix=ica_suffix, datatype='meg',\n",
    "            root=preproc_root, extension='.fif', check=False)\n",
    "\n",
    "ann_fname = bids_path_preproc.basename.replace(ica_suffix, ann_suffix) # output filename\n",
    "ann_fname = ann_fname.replace('fif', 'csv') # output filename\n",
    "\n",
    "ann_fname_1 = op.join(bids_path_preproc.directory, ann_fname)\n",
    "ann_fname_2 = ann_fname_1.replace('run-01', 'run-02')"
   ]
  },
  {
   "cell_type": "markdown",
   "metadata": {},
   "source": [
    "Read the pre-processed data, after ICA. Note that we are *not* loading in the epoched data here, as we want to work with the continuous data instead."
   ]
  },
  {
   "cell_type": "code",
   "execution_count": 7,
   "metadata": {},
   "outputs": [
    {
     "name": "stdout",
     "output_type": "stream",
     "text": [
      "Opening raw data file /Users/lhunt/scratch/projects/FLUX_pipeline/derivatives/Preprocessing/sub-01/ses-01/meg/sub-01_ses-01_task-SpAtt_run-01_ica.fif...\n",
      "    Range : 1665000 ... 3098999 =   1665.000 ...  3098.999 secs\n",
      "Ready.\n",
      "Used Annotations descriptions: ['ITI', 'block_start', 'cue_left', 'cue_right', 'left_resp_maybe', 'right_resp_maybe', 'target_onset', 'trial_end', 'trial_start']\n"
     ]
    },
    {
     "name": "stderr",
     "output_type": "stream",
     "text": [
      "/var/folders/v8/m87vzy8x1gg_jv4w_shjwn180000gn/T/ipykernel_27652/2927124242.py:3: RuntimeWarning: This filename (/Users/lhunt/scratch/projects/FLUX_pipeline/derivatives/Preprocessing/sub-01/ses-01/meg/sub-01_ses-01_task-SpAtt_run-01_ica.fif) does not conform to MNE naming conventions. All raw files should end with raw.fif, raw_sss.fif, raw_tsss.fif, _meg.fif, _eeg.fif, _ieeg.fif, raw.fif.gz, raw_sss.fif.gz, raw_tsss.fif.gz, _meg.fif.gz, _eeg.fif.gz or _ieeg.fif.gz\n",
      "  raw = read_raw_bids(bids_path=bids_path_preproc,\n",
      "/var/folders/v8/m87vzy8x1gg_jv4w_shjwn180000gn/T/ipykernel_27652/2927124242.py:3: RuntimeWarning: Did not find any events.tsv associated with sub-01_ses-01_task-SpAtt_run-01.\n",
      "\n",
      "The search_str was \"/Users/lhunt/scratch/projects/FLUX_pipeline/derivatives/Preprocessing/sub-01/**/meg/sub-01_ses-01*events.tsv\"\n",
      "  raw = read_raw_bids(bids_path=bids_path_preproc,\n",
      "/var/folders/v8/m87vzy8x1gg_jv4w_shjwn180000gn/T/ipykernel_27652/2927124242.py:3: RuntimeWarning: Did not find any channels.tsv associated with sub-01_ses-01_task-SpAtt_run-01.\n",
      "\n",
      "The search_str was \"/Users/lhunt/scratch/projects/FLUX_pipeline/derivatives/Preprocessing/sub-01/**/meg/sub-01_ses-01*channels.tsv\"\n",
      "  raw = read_raw_bids(bids_path=bids_path_preproc,\n",
      "/var/folders/v8/m87vzy8x1gg_jv4w_shjwn180000gn/T/ipykernel_27652/2927124242.py:3: RuntimeWarning: Did not find any meg.json associated with sub-01_ses-01_task-SpAtt_run-01.\n",
      "\n",
      "The search_str was \"/Users/lhunt/scratch/projects/FLUX_pipeline/derivatives/Preprocessing/sub-01/**/meg/sub-01_ses-01*meg.json\"\n",
      "  raw = read_raw_bids(bids_path=bids_path_preproc,\n",
      "/var/folders/v8/m87vzy8x1gg_jv4w_shjwn180000gn/T/ipykernel_27652/2927124242.py:3: RuntimeWarning: participants.tsv file not found for /Users/lhunt/scratch/projects/FLUX_pipeline/derivatives/Preprocessing/sub-01/ses-01/meg/sub-01_ses-01_task-SpAtt_run-01_ica.fif\n",
      "  raw = read_raw_bids(bids_path=bids_path_preproc,\n"
     ]
    }
   ],
   "source": [
    "# This section only runs on run=01 for illustration purpose \n",
    "bids_path_preproc.update(run='01')\n",
    "raw = read_raw_bids(bids_path=bids_path_preproc, \n",
    "            extra_params={'preload':False},\n",
    "            verbose=True)\n"
   ]
  },
  {
   "cell_type": "markdown",
   "metadata": {},
   "source": [
    "Now, read the events from the stimulus channel (STI101), and also read the artefacts that were detected in the ArtefactAnnotation script from the CSV file."
   ]
  },
  {
   "cell_type": "code",
   "execution_count": 10,
   "metadata": {},
   "outputs": [
    {
     "name": "stdout",
     "output_type": "stream",
     "text": [
      "Used Annotations descriptions: ['ITI', 'block_start', 'cue_left', 'cue_right', 'left_resp_maybe', 'right_resp_maybe', 'target_onset', 'trial_end', 'trial_start']\n",
      "<Annotations | 641 segments: BAD_muscle (98), blink (543)>\n"
     ]
    },
    {
     "name": "stderr",
     "output_type": "stream",
     "text": [
      "/var/folders/v8/m87vzy8x1gg_jv4w_shjwn180000gn/T/ipykernel_27652/1187707891.py:7: RuntimeWarning: Omitted 641 annotation(s) that were outside data range.\n",
      "  raw.set_annotations(ann1)\n"
     ]
    },
    {
     "data": {
      "text/html": [
       "<details open>\n",
       "    <summary><strong>General</strong></summary>\n",
       "    <table class=\"table table-hover table-striped table-sm table-responsive small\">\n",
       "        <tr>\n",
       "            <th>Measurement date</th>\n",
       "            \n",
       "            <td>January 01, 2000  00:00:00 GMT</td>\n",
       "            \n",
       "        </tr>\n",
       "        <tr>\n",
       "            <th>Experimenter</th>\n",
       "            \n",
       "            <td>mne_anonymize</td>\n",
       "            \n",
       "        </tr>\n",
       "        <tr>\n",
       "            <th>Participant</th>\n",
       "            \n",
       "            \n",
       "            \n",
       "        </tr>\n",
       "    </table>\n",
       "    </details>\n",
       "    <details open>\n",
       "        <summary><strong>Channels</strong></summary>\n",
       "        <table class=\"table table-hover table-striped table-sm table-responsive small\">\n",
       "            <tr>\n",
       "                <th>Digitized points</th>\n",
       "                \n",
       "                <td>403 points</td>\n",
       "                \n",
       "            </tr>\n",
       "            <tr>\n",
       "                <th>Good channels</th>\n",
       "                <td>6 misc, 11 Internal Active Shielding data (Triux systems), 102 Magnetometers, 204 Gradiometers, 18 Stimulus, 2 System status channel information (Triux systems)</td>\n",
       "            </tr>\n",
       "            <tr>\n",
       "                <th>Bad channels</th>\n",
       "                <td>None</td>\n",
       "            </tr>\n",
       "            <tr>\n",
       "                <th>EOG channels</th>\n",
       "                <td>Not available</td>\n",
       "            </tr>\n",
       "            <tr>\n",
       "                <th>ECG channels</th>\n",
       "                <td>Not available</td>\n",
       "            </tr>\n",
       "        </table>\n",
       "        </details>\n",
       "        <details open>\n",
       "            <summary><strong>Data</strong></summary>\n",
       "            <table class=\"table table-hover table-striped table-sm table-responsive small\">\n",
       "                \n",
       "                <tr>\n",
       "                    <th>Sampling frequency</th>\n",
       "                    <td>1000.00 Hz</td>\n",
       "                </tr>\n",
       "                \n",
       "                \n",
       "                <tr>\n",
       "                    <th>Highpass</th>\n",
       "                    <td>0.10 Hz</td>\n",
       "                </tr>\n",
       "                \n",
       "                \n",
       "                <tr>\n",
       "                    <th>Lowpass</th>\n",
       "                    <td>330.00 Hz</td>\n",
       "                </tr>\n",
       "                \n",
       "                \n",
       "                \n",
       "                <tr>\n",
       "                    <th>Filenames</th>\n",
       "                    <td>sub-01_ses-01_task-SpAtt_run-01_ica.fif</td>\n",
       "                </tr>\n",
       "                \n",
       "                \n",
       "                <tr>\n",
       "                    <th>Duration</th>\n",
       "                    <td>00:23:54 (HH:MM:SS)</td>\n",
       "                </tr>\n",
       "                \n",
       "            </table>\n",
       "            </details>"
      ],
      "text/plain": [
       "<Raw | sub-01_ses-01_task-SpAtt_run-01_ica.fif, 343 x 1434000 (1434.0 s), ~633 kB, data not loaded>"
      ]
     },
     "execution_count": 10,
     "metadata": {},
     "output_type": "execute_result"
    }
   ],
   "source": [
    "# Reading the events from the  raw file\n",
    "events, events_id = mne.events_from_annotations(raw, event_id='auto')\n",
    "\n",
    "# Reading the artifact rejection annotations\n",
    "ann1 = mne.read_annotations(ann_fname_1)\n",
    "print(ann1)\n",
    "raw.set_annotations(ann1)"
   ]
  },
  {
   "cell_type": "code",
   "execution_count": 13,
   "metadata": {},
   "outputs": [
    {
     "data": {
      "image/png": "[encoded data removed]",
      "text/plain": [
       "<Figure size 640x480 with 1 Axes>"
      ]
     },
     "metadata": {},
     "output_type": "display_data"
    }
   ],
   "source": [
    "%matplotlib inline\n",
    "plt.stem(events[:,0][:80], events[:,2][:80])\n",
    "plt.xlabel('samples')\n",
    "plt.ylabel('Trigger value (STI101)')\n",
    "plt.show()"
   ]
  },
  {
   "cell_type": "markdown",
   "metadata": {},
   "source": [
    "# References\n",
    "\n",
    "Crosse MJ, Di Liberto GM, Bednar A and Lalor EC (2016) The Multivariate Temporal Response Function (mTRF) Toolbox: A MATLAB Toolbox for Relating Neural Signals to Continuous Stimuli. Front. Hum. Neurosci. 10:604. doi: 10.3389/fnhum.2016.00604\n",
    "\n",
    "Ehinger BV, Dimigen O. 2019. Unfold: an integrated toolbox for overlap correction, non-linear modeling, and regression-based EEG analysis. PeerJ 7:e7838 https://doi.org/10.7717/peerj.7838\n",
    "\n",
    "Smith NJ, Kutas M. Regression-based estimation of ERP waveforms: I. The rERP framework. Psychophysiology. 2015 Feb;52(2):157-68. doi: 10.1111/psyp.12317. Epub 2014 Aug 21. PMID: 25141770; PMCID: PMC5308234.\n"
   ]
  },
  {
   "cell_type": "markdown",
   "metadata": {},
   "source": []
  }
 ],
 "metadata": {
  "kernelspec": {
   "display_name": "base",
   "language": "python",
   "name": "python3"
  },
  "language_info": {
   "codemirror_mode": {
    "name": "ipython",
    "version": 3
   },
   "file_extension": ".py",
   "mimetype": "text/x-python",
   "name": "python",
   "nbconvert_exporter": "python",
   "pygments_lexer": "ipython3",
   "version": "3.9.12"
  }
 },
 "nbformat": 4,
 "nbformat_minor": 2
}
